{
 "cells": [
  {
   "cell_type": "code",
   "execution_count": 1,
   "id": "9422b7ad-f17a-49f0-8a06-e1bd90d84292",
   "metadata": {},
   "outputs": [
    {
     "name": "stdout",
     "output_type": "stream",
     "text": [
      "7\n"
     ]
    }
   ],
   "source": [
    "a=7\n",
    "print(a)\n"
   ]
  },
  {
   "cell_type": "code",
   "execution_count": 3,
   "id": "7354cdea-90d6-455f-8e30-f6a11ece9b38",
   "metadata": {},
   "outputs": [
    {
     "name": "stdout",
     "output_type": "stream",
     "text": [
      "188\n"
     ]
    }
   ],
   "source": [
    "a=90\n",
    "b=98\n",
    "c=a+b\n",
    "print(c)"
   ]
  },
  {
   "cell_type": "code",
   "execution_count": 1,
   "id": "503aaef5-34c8-4525-b4c7-b48642cdd5aa",
   "metadata": {},
   "outputs": [
    {
     "name": "stdin",
     "output_type": "stream",
     "text": [
      "enter a 78\n",
      "enter b 32\n"
     ]
    },
    {
     "name": "stdout",
     "output_type": "stream",
     "text": [
      "Sum =  110\n",
      "Subtract = 46\n",
      "Divide = 2.4375\n",
      "Multiply =  2496\n",
      "Modulus = 14\n",
      "v = 3523930106911441207311751998440200699479408173742614711894016\n",
      "N = 2\n"
     ]
    }
   ],
   "source": [
    "a=int(input(\"enter a\"))\n",
    "b=int(input(\"enter b\"))\n",
    "c=a+b\n",
    "print(\"Sum = \",c)\n",
    "d=a-b\n",
    "print(\"Subtract =\",d)\n",
    "e=a/b;\n",
    "print(\"Divide =\",e)\n",
    "f=a*b\n",
    "print(\"Multiply = \",f)\n",
    "g=a%b\n",
    "print(\"Modulus =\",g)\n",
    "v=a**b\n",
    "print(\"v =\",v)\n",
    "n=a//b\n",
    "print(\"N =\",n)\n"
   ]
  },
  {
   "cell_type": "code",
   "execution_count": 2,
   "id": "c6f83468-12f6-4e50-a8f6-c9827b0df406",
   "metadata": {},
   "outputs": [
    {
     "name": "stdout",
     "output_type": "stream",
     "text": [
      "10\n",
      "7\n",
      "10\n",
      "1.1111111111111112\n"
     ]
    }
   ],
   "source": [
    "a=5;\n",
    "b=2;\n",
    "a+=5;\n",
    "print(a)\n",
    "a-=3;\n",
    "print(a)\n",
    "b*=5;\n",
    "print(b)\n",
    "b/=9\n",
    "print(b)"
   ]
  },
  {
   "cell_type": "code",
   "execution_count": 4,
   "id": "6191f32b-2f68-40cb-a6f8-611f54fc2e7f",
   "metadata": {},
   "outputs": [
    {
     "name": "stdout",
     "output_type": "stream",
     "text": [
      "True\n",
      "False\n",
      "True\n",
      "True\n",
      "False\n",
      "True\n"
     ]
    }
   ],
   "source": [
    "a=20\n",
    "b=10\n",
    "c=10\n",
    "d=20\n",
    "print(a>b)\n",
    "print(a<b)\n",
    "print(a>=b)\n",
    "print(b<=c)\n",
    "print(d!=a)\n",
    "print(c!=a)"
   ]
  },
  {
   "cell_type": "code",
   "execution_count": 8,
   "id": "7628ed31-2936-49eb-866d-ed37e8fa047e",
   "metadata": {},
   "outputs": [
    {
     "name": "stdout",
     "output_type": "stream",
     "text": [
      "A is bigger than b and adult\n"
     ]
    }
   ],
   "source": [
    "a=20\n",
    "b=10\n",
    "if(a>18 and a>b):\n",
    "    print(\"A is bigger than b and adult\")\n",
    "else:\n",
    "    print(\"Not\")"
   ]
  },
  {
   "cell_type": "code",
   "execution_count": 9,
   "id": "f7255e9f-6ad9-4911-9f6d-eeb03edf0330",
   "metadata": {},
   "outputs": [
    {
     "name": "stdout",
     "output_type": "stream",
     "text": [
      "Anybody\n"
     ]
    }
   ],
   "source": [
    "a=20\n",
    "b=10\n",
    "if(a>18 and a>b):\n",
    "    print(\"A is bigger than b and adult\")\n",
    "else:\n",
    "    print(\"Not\")"
   ]
  },
  {
   "cell_type": "code",
   "execution_count": 15,
   "id": "a8f99e46-fb51-4bac-9ccc-10e77c74194e",
   "metadata": {},
   "outputs": [
    {
     "name": "stdout",
     "output_type": "stream",
     "text": [
      "Not\n"
     ]
    }
   ],
   "source": [
    "a=20\n",
    "b=10\n",
    "if not(a>18 and a>b):\n",
    "    print(\"A is bigger than b and adult\")\n",
    "else:\n",
    "    print(\"Not\")"
   ]
  },
  {
   "cell_type": "code",
   "execution_count": 19,
   "id": "933c1592-c377-45f6-b1cc-c9f4ef62bf58",
   "metadata": {},
   "outputs": [
    {
     "name": "stdout",
     "output_type": "stream",
     "text": [
      "True\n",
      "False\n"
     ]
    }
   ],
   "source": [
    "name=\"kunal sharma\"\n",
    "print(\"kunal\" in name)\n",
    "print(\"sharma\" not in name)"
   ]
  },
  {
   "cell_type": "code",
   "execution_count": 26,
   "id": "f65e0617-be0c-4435-987b-155e912bd058",
   "metadata": {},
   "outputs": [
    {
     "name": "stdout",
     "output_type": "stream",
     "text": [
      "4\n",
      "31\n",
      "-21\n"
     ]
    }
   ],
   "source": [
    "a=20\n",
    "b=15\n",
    "print(a & b)\n",
    "print(a | b)\n",
    "print(~a)"
   ]
  },
  {
   "cell_type": "code",
   "execution_count": 29,
   "id": "97951d5b-29e4-40ce-8ae4-5e0b8061cf4d",
   "metadata": {},
   "outputs": [
    {
     "name": "stdout",
     "output_type": "stream",
     "text": [
      "False\n",
      "True\n"
     ]
    },
    {
     "name": "stderr",
     "output_type": "stream",
     "text": [
      "<>:3: SyntaxWarning: \"is not\" with 'str' literal. Did you mean \"!=\"?\n",
      "C:\\Users\\DELL\\AppData\\Local\\Temp\\ipykernel_7816\\2616143936.py:3: SyntaxWarning: \"is not\" with 'str' literal. Did you mean \"!=\"?\n",
      "  print(\"kunal sharma\" is not name)\n"
     ]
    }
   ],
   "source": [
    "name=\"kunal sharma\"\n",
    "print(\"kunal sharma\" is name)\n",
    "print(\"kunal sharma\" is not name)"
   ]
  },
  {
   "cell_type": "code",
   "execution_count": 1,
   "id": "e0f4892d-4c77-485a-8b0b-e0630bbc22af",
   "metadata": {},
   "outputs": [
    {
     "name": "stdout",
     "output_type": "stream",
     "text": [
      "<class 'float'>\n"
     ]
    }
   ],
   "source": [
    "# explicit\n",
    "x=10\n",
    "y=float(x)\n",
    "print(type(y))"
   ]
  },
  {
   "cell_type": "code",
   "execution_count": 2,
   "id": "2ed0eb8b-fb51-4a09-a57e-f9afb56caf23",
   "metadata": {},
   "outputs": [
    {
     "name": "stdout",
     "output_type": "stream",
     "text": [
      "20.5\n"
     ]
    }
   ],
   "source": [
    "x=10\n",
    "y=10.5\n",
    "print(x+y)"
   ]
  },
  {
   "cell_type": "code",
   "execution_count": 4,
   "id": "8ba0b7f8-d32f-4a74-b25e-77ab9d791b0e",
   "metadata": {},
   "outputs": [
    {
     "name": "stdin",
     "output_type": "stream",
     "text": [
      "Enter quantity 6\n",
      "Enter price 56.27\n"
     ]
    },
    {
     "name": "stdout",
     "output_type": "stream",
     "text": [
      "Total bill= 337.62\n"
     ]
    }
   ],
   "source": [
    "# Calculator\n",
    "name=\"Milk\"\n",
    "quantity=int(input(\"Enter quantity\"))\n",
    "price=float(input(\"Enter price\"))\n",
    "bill=quantity*price\n",
    "print(\"Total bill=\",bill)\n"
   ]
  },
  {
   "cell_type": "code",
   "execution_count": 5,
   "id": "6f83ce15-4e46-4db6-80b3-7c1e4773c4a8",
   "metadata": {},
   "outputs": [],
   "source": [
    "a=10\n",
    "if a>15:\n",
    "    print(\"hello\")"
   ]
  },
  {
   "cell_type": "code",
   "execution_count": 6,
   "id": "d2bc2ee8-4843-4578-8a7f-2ca7d278ed3d",
   "metadata": {},
   "outputs": [
    {
     "name": "stdout",
     "output_type": "stream",
     "text": [
      "hello\n"
     ]
    }
   ],
   "source": [
    "a=10\n",
    "if a<15:\n",
    "    print(\"hello\")\n",
    "else:\n",
    "    print(\"hlo\")\n",
    "\n"
   ]
  },
  {
   "cell_type": "code",
   "execution_count": 5,
   "id": "1a0525ab-4f30-48c1-9767-fc6aab4ba54c",
   "metadata": {},
   "outputs": [
    {
     "name": "stdin",
     "output_type": "stream",
     "text": [
      "Enter month:  december\n"
     ]
    },
    {
     "name": "stdout",
     "output_type": "stream",
     "text": [
      "Winter\n"
     ]
    }
   ],
   "source": [
    "month = input(\"Enter month: \")\n",
    "\n",
    "if month in (\"march\", \"april\", \"may\", \"june\"):\n",
    "    print(\"Summer\")\n",
    "elif month in (\"july\", \"august\", \"september\", \"october\"):\n",
    "    print(\"Rainy\")\n",
    "else:\n",
    "    print(\"Winter\")"
   ]
  },
  {
   "cell_type": "code",
   "execution_count": 6,
   "id": "c3e665d8-1767-424c-8a8a-fc468f8c158d",
   "metadata": {},
   "outputs": [
    {
     "name": "stdout",
     "output_type": "stream",
     "text": [
      "87\n"
     ]
    }
   ],
   "source": [
    "n=\"87\"\n",
    "b=int(n)\n",
    "print(b)"
   ]
  },
  {
   "cell_type": "code",
   "execution_count": 7,
   "id": "1e4b86d4-3240-4aad-9922-63aade2c5db2",
   "metadata": {},
   "outputs": [
    {
     "ename": "ValueError",
     "evalue": "invalid literal for int() with base 10: 'tani'",
     "output_type": "error",
     "traceback": [
      "\u001b[1;31m---------------------------------------------------------------------------\u001b[0m",
      "\u001b[1;31mValueError\u001b[0m                                Traceback (most recent call last)",
      "Cell \u001b[1;32mIn[7], line 2\u001b[0m\n\u001b[0;32m      1\u001b[0m t\u001b[38;5;241m=\u001b[39m\u001b[38;5;124m\"\u001b[39m\u001b[38;5;124mtani\u001b[39m\u001b[38;5;124m\"\u001b[39m\n\u001b[1;32m----> 2\u001b[0m n\u001b[38;5;241m=\u001b[39m\u001b[38;5;28mint\u001b[39m(t)\n\u001b[0;32m      3\u001b[0m \u001b[38;5;28mprint\u001b[39m(n)\n",
      "\u001b[1;31mValueError\u001b[0m: invalid literal for int() with base 10: 'tani'"
     ]
    }
   ],
   "source": [
    "t=\"tani\"\n",
    "n=int(t)\n",
    "print(n)"
   ]
  },
  {
   "cell_type": "code",
   "execution_count": 8,
   "id": "77cda772-c907-4516-837e-bab6ed5755ff",
   "metadata": {},
   "outputs": [
    {
     "name": "stdout",
     "output_type": "stream",
     "text": [
      "True\n"
     ]
    }
   ],
   "source": [
    "a=4\n",
    "b=4\n",
    "print(a is b)"
   ]
  },
  {
   "cell_type": "code",
   "execution_count": 10,
   "id": "fb844f92-8bb1-4b95-8e1f-95e2b8db3e49",
   "metadata": {},
   "outputs": [
    {
     "name": "stdin",
     "output_type": "stream",
     "text": [
      "Enter Vehicle type car\n"
     ]
    },
    {
     "name": "stdout",
     "output_type": "stream",
     "text": [
      "15 years\n"
     ]
    }
   ],
   "source": [
    "vehicle=input(\"Enter Vehicle type\")\n",
    "if(vehicle==\"car\"):\n",
    "    print(\"15 years\")\n",
    "elif(vehicle==\"bike\"):\n",
    "    print(\"15 years\")\n",
    "else:\n",
    "    print(\"10 years\")\n",
    "    "
   ]
  },
  {
   "cell_type": "code",
   "execution_count": null,
   "id": "aea2e0ca-740f-4321-9d88-89f55e442056",
   "metadata": {},
   "outputs": [],
   "source": []
  },
  {
   "cell_type": "code",
   "execution_count": 6,
   "id": "3832dd38-657d-4d00-9a2e-0f022bb053a5",
   "metadata": {},
   "outputs": [
    {
     "name": "stdin",
     "output_type": "stream",
     "text": [
      "Enter number 3\n"
     ]
    },
    {
     "name": "stdout",
     "output_type": "stream",
     "text": [
      "positive\n"
     ]
    }
   ],
   "source": [
    "a=int(input(\"Enter number\"))\n",
    "if (a>0):\n",
    "      print(\"positive\")\n",
    "elif a==0:\n",
    "      print(\"zero\")\n",
    "else:\n",
    "      print(\"negative\")"
   ]
  },
  {
   "cell_type": "code",
   "execution_count": 8,
   "id": "4f3aa4a2-7114-42d0-abbd-c37d195a099d",
   "metadata": {},
   "outputs": [
    {
     "name": "stdin",
     "output_type": "stream",
     "text": [
      "Enter age 13\n"
     ]
    },
    {
     "name": "stdout",
     "output_type": "stream",
     "text": [
      "Teen\n"
     ]
    }
   ],
   "source": [
    "\n",
    "age=int(input(\"Enter age\"))\n",
    "if(age<13):\n",
    "    print(\"Child\")\n",
    "elif(age<18):\n",
    "    print(\"Teen\")\n",
    "else:\n",
    "    print(\"Adult\")"
   ]
  },
  {
   "cell_type": "code",
   "execution_count": 9,
   "id": "f44f2a6d-dade-4084-bc13-8886de67efe8",
   "metadata": {},
   "outputs": [
    {
     "name": "stdin",
     "output_type": "stream",
     "text": [
      "Enter a number:  56\n"
     ]
    },
    {
     "name": "stdout",
     "output_type": "stream",
     "text": [
      "The number is even and greater than 10\n"
     ]
    }
   ],
   "source": [
    "n = int(input(\"Enter a number: \"))\n",
    "if n % 2 == 0:\n",
    "    if n > 10:\n",
    "        print(\"The number is even and greater than 10\")\n",
    "    else:\n",
    "        print(\"The number is even but not greater than 10\")\n",
    "else:\n",
    "    print(\"The number is not even\")"
   ]
  },
  {
   "cell_type": "code",
   "execution_count": 10,
   "id": "e135b7c4-b3c0-41c5-b499-ee1d6e4d9665",
   "metadata": {},
   "outputs": [
    {
     "name": "stdin",
     "output_type": "stream",
     "text": [
      "Enter marks 89\n"
     ]
    },
    {
     "name": "stdout",
     "output_type": "stream",
     "text": [
      "Grade B\n"
     ]
    }
   ],
   "source": [
    "\n",
    "marks=int(input(\"Enter marks\"))\n",
    "if(marks>90):\n",
    "    print(\"Grade A\")\n",
    "elif(marks>75):\n",
    "    print(\"Grade B\")\n",
    "elif(marks>60):\n",
    "    print(\"Grade C\")\n",
    "else:\n",
    "    print(\"Fail\")\n",
    "    "
   ]
  },
  {
   "cell_type": "code",
   "execution_count": 1,
   "id": "fa3b8ca9-402b-44b9-a170-536746b00c93",
   "metadata": {},
   "outputs": [
    {
     "name": "stdin",
     "output_type": "stream",
     "text": [
      "Enter first number:  3\n",
      "Enter second number:  4\n",
      "Enter third number:  6\n"
     ]
    },
    {
     "name": "stdout",
     "output_type": "stream",
     "text": [
      "6 is the greatest\n"
     ]
    }
   ],
   "source": [
    "a = int(input(\"Enter first number: \"))\n",
    "b = int(input(\"Enter second number: \"))\n",
    "c = int(input(\"Enter third number: \"))\n",
    "\n",
    "if (a > b):\n",
    "    if (a > c):\n",
    "        print(a, \"is the greatest\")\n",
    "    else:\n",
    "        print(c, \"is the greatest\")\n",
    "else:\n",
    "    if (b > c):\n",
    "        print(b, \"is the greatest\")\n",
    "    else:\n",
    "        print(c, \"is the greatest\")"
   ]
  },
  {
   "cell_type": "code",
   "execution_count": 3,
   "id": "0b35d663-3a9b-450e-9cbc-8c2aa1d7767c",
   "metadata": {},
   "outputs": [
    {
     "name": "stdout",
     "output_type": "stream",
     "text": [
      "2\n",
      "4\n",
      "6\n",
      "8\n",
      "10\n",
      "12\n",
      "14\n",
      "16\n",
      "18\n",
      "20\n"
     ]
    }
   ],
   "source": [
    "i=2;\n",
    "n=1;\n",
    "while(n<=10):\n",
    "    print(f\"{i} X {n}=n*i)\n",
    "    n+=1\n",
    "    "
   ]
  },
  {
   "cell_type": "code",
   "execution_count": 1,
   "id": "9731e811-40a0-4699-8cc6-5a2accf14f9d",
   "metadata": {},
   "outputs": [
    {
     "name": "stdout",
     "output_type": "stream",
     "text": [
      "Day 3\n"
     ]
    }
   ],
   "source": [
    "print(\"Day 3\")"
   ]
  },
  {
   "cell_type": "code",
   "execution_count": 3,
   "id": "2d196e1e-6c8c-416f-b5bc-72590922142b",
   "metadata": {},
   "outputs": [
    {
     "name": "stdin",
     "output_type": "stream",
     "text": [
      "Enter word r\n"
     ]
    },
    {
     "name": "stdout",
     "output_type": "stream",
     "text": [
      "if you enter q then exit the loop\n",
      "your enter r\n"
     ]
    },
    {
     "name": "stdin",
     "output_type": "stream",
     "text": [
      "Enter word w\n"
     ]
    },
    {
     "name": "stdout",
     "output_type": "stream",
     "text": [
      "if you enter q then exit the loop\n",
      "your enter w\n"
     ]
    },
    {
     "name": "stdin",
     "output_type": "stream",
     "text": [
      "Enter word a\n"
     ]
    },
    {
     "name": "stdout",
     "output_type": "stream",
     "text": [
      "if you enter q then exit the loop\n",
      "your enter a\n"
     ]
    },
    {
     "name": "stdin",
     "output_type": "stream",
     "text": [
      "Enter word f\n"
     ]
    },
    {
     "name": "stdout",
     "output_type": "stream",
     "text": [
      "if you enter q then exit the loop\n",
      "your enter f\n"
     ]
    },
    {
     "name": "stdin",
     "output_type": "stream",
     "text": [
      "Enter word q\n"
     ]
    },
    {
     "name": "stdout",
     "output_type": "stream",
     "text": [
      "if you enter q then exit the loop\n",
      "existed loop\n"
     ]
    }
   ],
   "source": [
    "# while loop\n",
    "while(1):\n",
    "    a=input(\"Enter word\")\n",
    "    print(\"if you enter q then exit the loop\")\n",
    "    if(a==\"q\"):\n",
    "        print(\"existed loop\")\n",
    "        break\n",
    "    else:\n",
    "        print(\"your enter\",a)\n",
    "        "
   ]
  },
  {
   "cell_type": "code",
   "execution_count": 8,
   "id": "6a1f6bf1-a3fd-40f6-a748-ad38ac9aa8cf",
   "metadata": {},
   "outputs": [
    {
     "name": "stdin",
     "output_type": "stream",
     "text": [
      "Enter password:  76\n"
     ]
    },
    {
     "name": "stdout",
     "output_type": "stream",
     "text": [
      "try left 2\n",
      "Enter again\n"
     ]
    },
    {
     "name": "stdin",
     "output_type": "stream",
     "text": [
      "Enter password:  34\n"
     ]
    },
    {
     "name": "stdout",
     "output_type": "stream",
     "text": [
      "try left 1\n",
      "Enter again\n"
     ]
    },
    {
     "name": "stdin",
     "output_type": "stream",
     "text": [
      "Enter password:  23\n"
     ]
    },
    {
     "name": "stdout",
     "output_type": "stream",
     "text": [
      "Locked\n"
     ]
    }
   ],
   "source": [
    "pas = 12\n",
    "count = 0\n",
    "tr=3\n",
    "while True:\n",
    "    enter = int(input(\"Enter password: \"))\n",
    "    count += 1\n",
    "    tr-=1\n",
    "    if enter == pas:\n",
    "        print(\"Successful\")\n",
    "        break\n",
    "    elif count == 3:\n",
    "        print(\"Locked\")\n",
    "        break\n",
    "    else:\n",
    "        print(\"try left\",tr)\n",
    "        print(\"Enter again\")\n"
   ]
  },
  {
   "cell_type": "code",
   "execution_count": 1,
   "id": "84a97bfe-2abb-431e-9970-1a9369b5802e",
   "metadata": {},
   "outputs": [
    {
     "name": "stdout",
     "output_type": "stream",
     "text": [
      "7 divided by 7\n",
      "14 divided by 7\n",
      "21 divided by 7\n",
      "28 divided by 7\n",
      "35 divided by 7\n",
      "42 divided by 7\n",
      "49 divided by 7\n",
      "56 divided by 7\n",
      "63 divided by 7\n",
      "70 divided by 7\n",
      "77 divided by 7\n",
      "84 divided by 7\n",
      "91 divided by 7\n",
      "98 divided by 7\n"
     ]
    }
   ],
   "source": [
    "num = 1\n",
    "while num <= 100:\n",
    "    if num % 7 == 0:\n",
    "        print(num, \"divided by 7\")\n",
    "    num += 1\n"
   ]
  },
  {
   "cell_type": "code",
   "execution_count": 3,
   "id": "2a49cdf3-81f6-4e29-8ffb-c6d7221fbe3e",
   "metadata": {},
   "outputs": [
    {
     "name": "stdin",
     "output_type": "stream",
     "text": [
      "Enter password:  43\n"
     ]
    },
    {
     "name": "stdout",
     "output_type": "stream",
     "text": [
      "Try left: 2\n",
      "Enter again\n"
     ]
    },
    {
     "name": "stdin",
     "output_type": "stream",
     "text": [
      "Enter password:  23\n"
     ]
    },
    {
     "name": "stdout",
     "output_type": "stream",
     "text": [
      "Try left: 1\n",
      "Enter again\n"
     ]
    },
    {
     "name": "stdin",
     "output_type": "stream",
     "text": [
      "Enter password:  76\n"
     ]
    },
    {
     "name": "stdout",
     "output_type": "stream",
     "text": [
      "Locked\n"
     ]
    }
   ],
   "source": [
    "pas = 12 \n",
    "\n",
    "for tr in range(3, 0, -1):\n",
    "    enter = int(input(\"Enter password: \"))\n",
    "    if enter == pas:\n",
    "        print(\"Successful\")\n",
    "        break\n",
    "    elif tr == 1:\n",
    "        print(\"Locked\")\n",
    "    else:\n",
    "        print(\"Try left:\", tr - 1)\n",
    "        print(\"Enter again\")\n"
   ]
  },
  {
   "cell_type": "code",
   "execution_count": 6,
   "id": "bb1f6de0-6800-4352-be0a-144843961378",
   "metadata": {},
   "outputs": [
    {
     "name": "stdout",
     "output_type": "stream",
     "text": [
      "1\n",
      "2\n",
      "4\n",
      "5\n"
     ]
    }
   ],
   "source": [
    "for i in range(1,6):\n",
    "    if i==3:\n",
    "        continue\n",
    "    print(i)"
   ]
  },
  {
   "cell_type": "code",
   "execution_count": 7,
   "id": "190667f8-6686-4003-9e97-328dab51a203",
   "metadata": {},
   "outputs": [
    {
     "name": "stdout",
     "output_type": "stream",
     "text": [
      "1\n",
      "2\n",
      "3\n",
      "4\n",
      "6\n",
      "7\n"
     ]
    }
   ],
   "source": [
    "for i in range(1,10):\n",
    "    if i==5:\n",
    "        continue\n",
    "    if i==8:\n",
    "        break\n",
    "    print(i)"
   ]
  },
  {
   "cell_type": "code",
   "execution_count": 10,
   "id": "7390b49e-5903-4a9c-a3ed-c07ca34069cc",
   "metadata": {},
   "outputs": [
    {
     "name": "stdin",
     "output_type": "stream",
     "text": [
      "Enter password:  ab\n"
     ]
    },
    {
     "name": "stdout",
     "output_type": "stream",
     "text": [
      "try left 2\n",
      "Enter again\n"
     ]
    },
    {
     "name": "stdin",
     "output_type": "stream",
     "text": [
      "Enter password:  forget\n",
      "Enter password:  f7\n"
     ]
    },
    {
     "name": "stdout",
     "output_type": "stream",
     "text": [
      "Locked\n"
     ]
    }
   ],
   "source": [
    "pas = \"ab12\"\n",
    "count = 0\n",
    "tr=3\n",
    "while True:\n",
    "    enter = (input(\"Enter password: \"))\n",
    "    count += 1\n",
    "    tr-=1\n",
    "    if(enter==\"forget\"):\n",
    "        continue\n",
    "    if enter == pas:\n",
    "        print(\"Successful\")\n",
    "        break\n",
    "    elif count == 3:\n",
    "        print(\"Locked\")\n",
    "        break\n",
    "    else:\n",
    "        print(\"try left\",tr)\n",
    "        print(\"Enter again\")\n"
   ]
  },
  {
   "cell_type": "code",
   "execution_count": 14,
   "id": "4b7f3453-fa97-4917-9c63-64827588d77b",
   "metadata": {},
   "outputs": [
    {
     "ename": "IndentationError",
     "evalue": "expected an indented block after 'if' statement on line 3 (2932719318.py, line 4)",
     "output_type": "error",
     "traceback": [
      "\u001b[1;36m  Cell \u001b[1;32mIn[14], line 4\u001b[1;36m\u001b[0m\n\u001b[1;33m    continue\u001b[0m\n\u001b[1;37m            ^\u001b[0m\n\u001b[1;31mIndentationError\u001b[0m\u001b[1;31m:\u001b[0m expected an indented block after 'if' statement on line 3\n"
     ]
    }
   ],
   "source": []
  },
  {
   "cell_type": "code",
   "execution_count": 18,
   "id": "b342c2c2-ce22-435b-8f93-e658494104ed",
   "metadata": {},
   "outputs": [
    {
     "name": "stdout",
     "output_type": "stream",
     "text": [
      "p\n",
      "y\n",
      "t\n",
      "h\n"
     ]
    }
   ],
   "source": [
    "name = \"python programming\"\n",
    "for i in name:\n",
    "    if i == \"o\":\n",
    "        continue\n",
    "    elif i == \"n\":\n",
    "        break\n",
    "    else:\n",
    "        print(i)\n"
   ]
  },
  {
   "cell_type": "code",
   "execution_count": 19,
   "id": "d3c70d6a-351f-490d-9e21-2aabf134a599",
   "metadata": {},
   "outputs": [
    {
     "name": "stdout",
     "output_type": "stream",
     "text": [
      "hello function\n"
     ]
    }
   ],
   "source": [
    "def fun():\n",
    "    print(\"hello function\")\n",
    "fun()"
   ]
  },
  {
   "cell_type": "code",
   "execution_count": 20,
   "id": "35a6347f-065c-44e2-b9b1-fd744778bbb7",
   "metadata": {},
   "outputs": [
    {
     "name": "stdout",
     "output_type": "stream",
     "text": [
      "sum =  11\n"
     ]
    }
   ],
   "source": [
    "def add(a,b):\n",
    "    print(\"sum = \",a+b)\n",
    "add(4,7)"
   ]
  },
  {
   "cell_type": "code",
   "execution_count": 23,
   "id": "4a7fd2d7-566c-4b20-ae6a-4cf25df59f36",
   "metadata": {},
   "outputs": [
    {
     "name": "stdout",
     "output_type": "stream",
     "text": [
      "lanuk\n"
     ]
    }
   ],
   "source": [
    "def k(b):\n",
    "    m=b[::-1]\n",
    "    print(m)\n",
    "k(\"kunal\")"
   ]
  },
  {
   "cell_type": "code",
   "execution_count": 1,
   "id": "1f7c040c-4c7d-4e0c-988a-cc1af8101ce3",
   "metadata": {},
   "outputs": [
    {
     "name": "stdout",
     "output_type": "stream",
     "text": [
      "7\n"
     ]
    }
   ],
   "source": [
    "# Test 1\n",
    "print(3+2*2)"
   ]
  },
  {
   "cell_type": "code",
   "execution_count": 2,
   "id": "0e11ceaf-c78a-47e1-bd77-19ac006c4b01",
   "metadata": {},
   "outputs": [
    {
     "name": "stdout",
     "output_type": "stream",
     "text": [
      "True\n"
     ]
    }
   ],
   "source": [
    "print(4 != 5)"
   ]
  },
  {
   "cell_type": "code",
   "execution_count": 3,
   "id": "f2682cc9-4be0-468d-b3fb-dec2af01d73c",
   "metadata": {},
   "outputs": [
    {
     "name": "stdout",
     "output_type": "stream",
     "text": [
      "False\n"
     ]
    }
   ],
   "source": [
    "print(5 > 3 and 2 < 1)"
   ]
  },
  {
   "cell_type": "code",
   "execution_count": 4,
   "id": "0f40d556-bdcd-414c-80d2-1bb0c8330002",
   "metadata": {},
   "outputs": [
    {
     "name": "stdout",
     "output_type": "stream",
     "text": [
      "2.0\n"
     ]
    }
   ],
   "source": [
    "print(10 / 5)"
   ]
  },
  {
   "cell_type": "code",
   "execution_count": 5,
   "id": "19b47c89-55b9-4e0c-a081-e60a6973b7f0",
   "metadata": {},
   "outputs": [
    {
     "name": "stdout",
     "output_type": "stream",
     "text": [
      "9\n"
     ]
    }
   ],
   "source": [
    "print(3**2)"
   ]
  },
  {
   "cell_type": "code",
   "execution_count": 6,
   "id": "8d8c7869-4fb7-4755-a29f-cdd48f2796a2",
   "metadata": {},
   "outputs": [
    {
     "name": "stdout",
     "output_type": "stream",
     "text": [
      "<class 'int'>\n"
     ]
    }
   ],
   "source": [
    "print(type(5))"
   ]
  },
  {
   "cell_type": "code",
   "execution_count": 7,
   "id": "ddd37a89-421c-44a8-9b59-e76a1b9ca7c4",
   "metadata": {},
   "outputs": [
    {
     "name": "stdout",
     "output_type": "stream",
     "text": [
      "OK\n"
     ]
    }
   ],
   "source": [
    "if 5 < 10: print('OK')\n"
   ]
  },
  {
   "cell_type": "code",
   "execution_count": 8,
   "id": "3ed13332-e215-4709-b5f2-7f119e7ff00e",
   "metadata": {},
   "outputs": [
    {
     "ename": "SyntaxError",
     "evalue": "invalid syntax (3531009105.py, line 1)",
     "output_type": "error",
     "traceback": [
      "\u001b[1;36m  Cell \u001b[1;32mIn[8], line 1\u001b[1;36m\u001b[0m\n\u001b[1;33m    x: print('Hello') where x=0\u001b[0m\n\u001b[1;37m                      ^\u001b[0m\n\u001b[1;31mSyntaxError\u001b[0m\u001b[1;31m:\u001b[0m invalid syntax\n"
     ]
    }
   ],
   "source": [
    "x: print('Hello') where x=0\n"
   ]
  },
  {
   "cell_type": "code",
   "execution_count": 9,
   "id": "eff7406c-41e2-4fdf-8a71-b8062721b7f6",
   "metadata": {},
   "outputs": [
    {
     "ename": "SyntaxError",
     "evalue": "invalid syntax. Maybe you meant '==' or ':=' instead of '='? (439693588.py, line 1)",
     "output_type": "error",
     "traceback": [
      "\u001b[1;36m  Cell \u001b[1;32mIn[9], line 1\u001b[1;36m\u001b[0m\n\u001b[1;33m    if x=5;\u001b[0m\n\u001b[1;37m       ^\u001b[0m\n\u001b[1;31mSyntaxError\u001b[0m\u001b[1;31m:\u001b[0m invalid syntax. Maybe you meant '==' or ':=' instead of '='?\n"
     ]
    }
   ],
   "source": [
    "if x=5; \n",
    "elif x==6:\n"
   ]
  },
  {
   "cell_type": "code",
   "execution_count": 10,
   "id": "2f6c9707-7412-4633-b872-26f4a9359931",
   "metadata": {},
   "outputs": [
    {
     "name": "stdout",
     "output_type": "stream",
     "text": [
      "True\n"
     ]
    }
   ],
   "source": [
    "print(3 > 2 and 2 < 5)"
   ]
  },
  {
   "cell_type": "code",
   "execution_count": 11,
   "id": "091f1808-2af4-40c8-97bd-a9d85d725854",
   "metadata": {},
   "outputs": [],
   "source": [
    "while False:\n",
    "    print('Hi')\n"
   ]
  },
  {
   "cell_type": "code",
   "execution_count": 12,
   "id": "362947c4-cbab-4a0a-b67c-48be5d79ba94",
   "metadata": {},
   "outputs": [
    {
     "name": "stdout",
     "output_type": "stream",
     "text": [
      "1\n",
      "2\n",
      "3\n"
     ]
    }
   ],
   "source": [
    "for x in [1,2,3]: \n",
    "    print(x)\n"
   ]
  },
  {
   "cell_type": "code",
   "execution_count": 13,
   "id": "c3f67e62-c830-49e0-b903-62670faeaee3",
   "metadata": {},
   "outputs": [
    {
     "name": "stdout",
     "output_type": "stream",
     "text": [
      "Hello,World!\n"
     ]
    }
   ],
   "source": [
    "print(\"Hello,World!\")"
   ]
  },
  {
   "cell_type": "code",
   "execution_count": 14,
   "id": "c57d820a-1f93-4277-9b81-72c5710daed2",
   "metadata": {},
   "outputs": [
    {
     "name": "stdin",
     "output_type": "stream",
     "text": [
      "enter a 45\n",
      "enter b 32\n"
     ]
    },
    {
     "name": "stdout",
     "output_type": "stream",
     "text": [
      "Sum =  77\n"
     ]
    }
   ],
   "source": [
    "a=int(input(\"enter a\"))\n",
    "b=int(input(\"enter b\"))\n",
    "c=a+b\n",
    "print(\"Sum = \",c)"
   ]
  },
  {
   "cell_type": "code",
   "execution_count": 20,
   "id": "528b0c45-d4d5-4941-9bfc-ba0eec73ab16",
   "metadata": {},
   "outputs": [
    {
     "name": "stdin",
     "output_type": "stream",
     "text": [
      "Enter a number:  5\n"
     ]
    },
    {
     "name": "stdout",
     "output_type": "stream",
     "text": [
      "The number is odd\n"
     ]
    }
   ],
   "source": [
    "n = int(input(\"Enter a number: \"))\n",
    "if n % 2 == 0:\n",
    "        print(\"The number is even\")\n",
    "else:\n",
    "        print(\"The number is odd\")"
   ]
  },
  {
   "cell_type": "code",
   "execution_count": 24,
   "id": "363039c0-0835-4ff7-baa1-92b8da752e35",
   "metadata": {},
   "outputs": [
    {
     "name": "stdin",
     "output_type": "stream",
     "text": [
      "Enter a 6\n",
      "Enter b 2\n"
     ]
    },
    {
     "name": "stdout",
     "output_type": "stream",
     "text": [
      "A is bigger than b\n"
     ]
    }
   ],
   "source": [
    "a=int(input(\"Enter a\"))\n",
    "b=int(input(\"Enter b\"))\n",
    "if (a>b):\n",
    "    print(\"A is bigger than b\")\n",
    "else:\n",
    "    print(\"B is greater than a\")"
   ]
  },
  {
   "cell_type": "code",
   "execution_count": 25,
   "id": "d20d8fd1-bf75-47e3-9d47-5366f3312d7e",
   "metadata": {},
   "outputs": [
    {
     "name": "stdin",
     "output_type": "stream",
     "text": [
      "Enter number 32\n"
     ]
    },
    {
     "name": "stdout",
     "output_type": "stream",
     "text": [
      "positive\n"
     ]
    }
   ],
   "source": [
    "a=int(input(\"Enter number\"))\n",
    "if (a>=0):\n",
    "      print(\"positive\")\n",
    "else:\n",
    "      print(\"negative\")"
   ]
  },
  {
   "cell_type": "code",
   "execution_count": 26,
   "id": "ed61351b-6d49-4063-84c7-62283e5d468a",
   "metadata": {},
   "outputs": [
    {
     "name": "stdout",
     "output_type": "stream",
     "text": [
      "1\n",
      "2\n",
      "3\n",
      "4\n",
      "5\n",
      "6\n",
      "7\n",
      "8\n",
      "9\n",
      "10\n"
     ]
    }
   ],
   "source": [
    "i=1\n",
    "while(i<=10):\n",
    "    print(i)\n",
    "    i+=1"
   ]
  },
  {
   "cell_type": "code",
   "execution_count": 27,
   "id": "d25b6d69-240a-444d-8a68-6dbdaa94aaa4",
   "metadata": {},
   "outputs": [
    {
     "name": "stdin",
     "output_type": "stream",
     "text": [
      "Enter a number:  5\n"
     ]
    },
    {
     "name": "stdout",
     "output_type": "stream",
     "text": [
      "Factorial of 5 is 120.\n"
     ]
    }
   ],
   "source": [
    "n = int(input(\"Enter a number: \"))\n",
    "if n < 0:\n",
    "    print(\"Factorial does not exist for negative numbers.\")\n",
    "elif n == 0:\n",
    "    print(\"The factorial of 0 is 1.\")\n",
    "else:\n",
    "    factorial = 1\n",
    "    for i in range(1, n + 1):\n",
    "        factorial *= i\n",
    "    print(f\"Factorial of {n} is {factorial}.\")\n"
   ]
  },
  {
   "cell_type": "code",
   "execution_count": 30,
   "id": "580b4e57-8f3a-40a9-91fb-d181cea73d16",
   "metadata": {},
   "outputs": [
    {
     "name": "stdin",
     "output_type": "stream",
     "text": [
      "Enter a number:  8990\n"
     ]
    },
    {
     "ename": "NameError",
     "evalue": "name 'digit' is not defined",
     "output_type": "error",
     "traceback": [
      "\u001b[1;31m---------------------------------------------------------------------------\u001b[0m",
      "\u001b[1;31mNameError\u001b[0m                                 Traceback (most recent call last)",
      "Cell \u001b[1;32mIn[30], line 5\u001b[0m\n\u001b[0;32m      3\u001b[0m \u001b[38;5;28;01mwhile\u001b[39;00m n \u001b[38;5;241m!=\u001b[39m \u001b[38;5;241m0\u001b[39m:\n\u001b[0;32m      4\u001b[0m     d \u001b[38;5;241m=\u001b[39m n \u001b[38;5;241m%\u001b[39m \u001b[38;5;241m10\u001b[39m\n\u001b[1;32m----> 5\u001b[0m     r \u001b[38;5;241m=\u001b[39m r \u001b[38;5;241m*\u001b[39m \u001b[38;5;241m10\u001b[39m \u001b[38;5;241m+\u001b[39m digit\n\u001b[0;32m      6\u001b[0m     n \u001b[38;5;241m/\u001b[39m\u001b[38;5;241m/\u001b[39m\u001b[38;5;241m=\u001b[39m \u001b[38;5;241m10\u001b[39m\n\u001b[0;32m      7\u001b[0m \u001b[38;5;28mprint\u001b[39m(\u001b[38;5;124m\"\u001b[39m\u001b[38;5;124mReversed number:\u001b[39m\u001b[38;5;124m\"\u001b[39m, r)\n",
      "\u001b[1;31mNameError\u001b[0m: name 'digit' is not defined"
     ]
    }
   ],
   "source": [
    "n = int(input(\"Enter a number: \"))\n",
    "r = 0\n",
    "while n != 0:\n",
    "    d = n % 10\n",
    "    r = r * 10 + digit\n",
    "    n //= 10\n",
    "print(\"Reversed number:\", r)\n"
   ]
  },
  {
   "cell_type": "code",
   "execution_count": 34,
   "id": "63553907-980b-4e60-8c8a-e355ae6da4ee",
   "metadata": {},
   "outputs": [
    {
     "name": "stdin",
     "output_type": "stream",
     "text": [
      "Enter a number:  46\n"
     ]
    },
    {
     "name": "stdout",
     "output_type": "stream",
     "text": [
      "Reversed number: 64\n"
     ]
    }
   ],
   "source": [
    "num = int(input(\"Enter a number: \"))\n",
    "rev = 0\n",
    "while (num != 0):\n",
    "    digit = (num % 10)\n",
    "    rev = (rev * 10 + digit)\n",
    "    (num //= 10)\n",
    "print(\"Reversed number:\", rev)\n"
   ]
  },
  {
   "cell_type": "code",
   "execution_count": 35,
   "id": "71d88b4d-902d-4f1b-9fd0-1c45310faac8",
   "metadata": {},
   "outputs": [
    {
     "ename": "SyntaxError",
     "evalue": "invalid non-printable character U+00A0 (888216256.py, line 12)",
     "output_type": "error",
     "traceback": [
      "\u001b[1;36m  Cell \u001b[1;32mIn[35], line 12\u001b[1;36m\u001b[0m\n\u001b[1;33m    print(f\"{num} is {'prime' if is_prime else 'not prime'}\")\u001b[0m\n\u001b[1;37m                                              ^\u001b[0m\n\u001b[1;31mSyntaxError\u001b[0m\u001b[1;31m:\u001b[0m invalid non-printable character U+00A0\n"
     ]
    }
   ],
   "source": [
    "num = int(input(\"Enter a number: \"))\n",
    "is_prime = True\n",
    "\n",
    "if num <= 1:\n",
    "    is_prime = False\n",
    "else:\n",
    "    for i in range(2, num):\n",
    "        if num % i == 0:\n",
    "            is_prime = False\n",
    "            break\n",
    "\n",
    "print(f\"{num} is {'prime' if is_prime else 'not prime'}\")"
   ]
  },
  {
   "cell_type": "code",
   "execution_count": 36,
   "id": "133555f0-ff09-42aa-9da3-c5e1dcd2d4ab",
   "metadata": {},
   "outputs": [
    {
     "name": "stdin",
     "output_type": "stream",
     "text": [
      "Enter a string:  kunal\n"
     ]
    },
    {
     "ename": "NameError",
     "evalue": "name 'vowels' is not defined",
     "output_type": "error",
     "traceback": [
      "\u001b[1;31m---------------------------------------------------------------------------\u001b[0m",
      "\u001b[1;31mNameError\u001b[0m                                 Traceback (most recent call last)",
      "Cell \u001b[1;32mIn[36], line 6\u001b[0m\n\u001b[0;32m      3\u001b[0m ch \u001b[38;5;241m=\u001b[39m \u001b[38;5;241m0\u001b[39m\n\u001b[0;32m      5\u001b[0m \u001b[38;5;28;01mfor\u001b[39;00m ch1 \u001b[38;5;129;01min\u001b[39;00m string:\n\u001b[1;32m----> 6\u001b[0m     \u001b[38;5;28;01mif\u001b[39;00m ch1 \u001b[38;5;129;01min\u001b[39;00m vowels:\n\u001b[0;32m      7\u001b[0m         ch \u001b[38;5;241m+\u001b[39m\u001b[38;5;241m=\u001b[39m \u001b[38;5;241m1\u001b[39m\n\u001b[0;32m      9\u001b[0m \u001b[38;5;28mprint\u001b[39m(\u001b[38;5;124m\"\u001b[39m\u001b[38;5;124mNumber of vowels:\u001b[39m\u001b[38;5;124m\"\u001b[39m, count)\n",
      "\u001b[1;31mNameError\u001b[0m: name 'vowels' is not defined"
     ]
    }
   ],
   "source": [
    "string = input(\"Enter a string: \")\n",
    "vowels = \"aeiouAEIOU\"\n",
    "count = 0\n",
    "\n",
    "for char in string:\n",
    "    if char in vowels:\n",
    "        count += 1\n",
    "\n",
    "print(\"Number of vowels:\", count)\n"
   ]
  },
  {
   "cell_type": "code",
   "execution_count": 38,
   "id": "48bf4ff3-a7c6-47e2-b522-47658fe2e1b6",
   "metadata": {},
   "outputs": [
    {
     "name": "stdin",
     "output_type": "stream",
     "text": [
      "Enter a string:  kunalcrj\n"
     ]
    },
    {
     "name": "stdout",
     "output_type": "stream",
     "text": [
      "Number of vowels: 2\n"
     ]
    }
   ],
   "source": [
    "str1 = input(\"Enter a string: \")\n",
    "vow = \"aeiouAEIOU\"\n",
    "count = 0\n",
    "\n",
    "for char in str1:\n",
    "    if char in vow:\n",
    "        count += 1\n",
    "\n",
    "print(\"Number of vowels:\", count)\n"
   ]
  },
  {
   "cell_type": "code",
   "execution_count": 41,
   "id": "9d5905fe-79d5-4922-b84d-af1cf4b92313",
   "metadata": {},
   "outputs": [
    {
     "name": "stdout",
     "output_type": "stream",
     "text": [
      "2 X 1=2\n",
      "2 X 2=4\n",
      "2 X 3=6\n",
      "2 X 4=8\n",
      "2 X 5=10\n",
      "2 X 6=12\n",
      "2 X 7=14\n",
      "2 X 8=16\n",
      "2 X 9=18\n",
      "2 X 10=20\n"
     ]
    }
   ],
   "source": [
    "i=2;\n",
    "n=1;\n",
    "while(n<=10):\n",
    "    print(f\"{i} X {n}={n*i}\")\n",
    "    n+=1"
   ]
  },
  {
   "cell_type": "code",
   "execution_count": 46,
   "id": "245fd3aa-2208-4832-848b-ca9bb3a357aa",
   "metadata": {},
   "outputs": [
    {
     "name": "stdin",
     "output_type": "stream",
     "text": [
      "Enter a number:  11\n"
     ]
    },
    {
     "name": "stdout",
     "output_type": "stream",
     "text": [
      "Prime number\n"
     ]
    }
   ],
   "source": [
    "num=int(input(\"Enter a number: \"))\n",
    "\n",
    "if num<=1:\n",
    "    print(\"Not a prime number\")\n",
    "else:\n",
    "    for i in range(2, num):\n",
    "        if num%i==0:\n",
    "            print(\"Not a prime number\")\n",
    "            break\n",
    "    else:\n",
    "        print(\"Prime number\")\n"
   ]
  },
  {
   "cell_type": "code",
   "execution_count": 47,
   "id": "5dc601d2-5a36-42d8-ae7e-5357d2fe52f2",
   "metadata": {},
   "outputs": [
    {
     "name": "stdin",
     "output_type": "stream",
     "text": [
      "Enter number of terms:  3\n"
     ]
    },
    {
     "name": "stdout",
     "output_type": "stream",
     "text": [
      "0\n",
      "1\n",
      "1\n"
     ]
    }
   ],
   "source": []
  },
  {
   "cell_type": "code",
   "execution_count": 50,
   "id": "2682a7d1-267f-42ec-be22-cbbb7bbd23db",
   "metadata": {},
   "outputs": [
    {
     "name": "stdin",
     "output_type": "stream",
     "text": [
      "Enter number of term 89\n"
     ]
    },
    {
     "name": "stdout",
     "output_type": "stream",
     "text": [
      "0\n",
      "1\n",
      "1\n",
      "2\n",
      "3\n",
      "5\n",
      "8\n",
      "13\n",
      "21\n",
      "34\n",
      "55\n",
      "89\n",
      "144\n",
      "233\n",
      "377\n",
      "610\n",
      "987\n",
      "1597\n",
      "2584\n",
      "4181\n",
      "6765\n",
      "10946\n",
      "17711\n",
      "28657\n",
      "46368\n",
      "75025\n",
      "121393\n",
      "196418\n",
      "317811\n",
      "514229\n",
      "832040\n",
      "1346269\n",
      "2178309\n",
      "3524578\n",
      "5702887\n",
      "9227465\n",
      "14930352\n",
      "24157817\n",
      "39088169\n",
      "63245986\n",
      "102334155\n",
      "165580141\n",
      "267914296\n",
      "433494437\n",
      "701408733\n",
      "1134903170\n",
      "1836311903\n",
      "2971215073\n",
      "4807526976\n",
      "7778742049\n",
      "12586269025\n",
      "20365011074\n",
      "32951280099\n",
      "53316291173\n",
      "86267571272\n",
      "139583862445\n",
      "225851433717\n",
      "365435296162\n",
      "591286729879\n",
      "956722026041\n",
      "1548008755920\n",
      "2504730781961\n",
      "4052739537881\n",
      "6557470319842\n",
      "10610209857723\n",
      "17167680177565\n",
      "27777890035288\n",
      "44945570212853\n",
      "72723460248141\n",
      "117669030460994\n",
      "190392490709135\n",
      "308061521170129\n",
      "498454011879264\n",
      "806515533049393\n",
      "1304969544928657\n",
      "2111485077978050\n",
      "3416454622906707\n",
      "5527939700884757\n",
      "8944394323791464\n",
      "14472334024676221\n",
      "23416728348467685\n",
      "37889062373143906\n",
      "61305790721611591\n",
      "99194853094755497\n",
      "160500643816367088\n",
      "259695496911122585\n",
      "420196140727489673\n",
      "679891637638612258\n",
      "1100087778366101931\n"
     ]
    }
   ],
   "source": [
    "n=int(input(\"Enter number of term\"))\n",
    "a=0\n",
    "b=1\n",
    "count=0\n",
    "while count<n:\n",
    "    print(a)\n",
    "    c=a+b\n",
    "    a=b\n",
    "    b=c\n",
    "    count+=1"
   ]
  },
  {
   "cell_type": "code",
   "execution_count": 52,
   "id": "0193779a-34d9-49cd-a1cf-964e53c41dbe",
   "metadata": {},
   "outputs": [
    {
     "ename": "NameError",
     "evalue": "name 'numb' is not defined",
     "output_type": "error",
     "traceback": [
      "\u001b[1;31m---------------------------------------------------------------------------\u001b[0m",
      "\u001b[1;31mNameError\u001b[0m                                 Traceback (most recent call last)",
      "Cell \u001b[1;32mIn[52], line 4\u001b[0m\n\u001b[0;32m      1\u001b[0m num\u001b[38;5;241m=\u001b[39m[\u001b[38;5;241m1\u001b[39m, \u001b[38;5;241m2\u001b[39m, \u001b[38;5;241m3\u001b[39m, \u001b[38;5;241m4\u001b[39m, \u001b[38;5;241m5\u001b[39m]\n\u001b[0;32m      2\u001b[0m total\u001b[38;5;241m=\u001b[39m\u001b[38;5;241m0\u001b[39m\n\u001b[1;32m----> 4\u001b[0m \u001b[38;5;28;01mfor\u001b[39;00m number \u001b[38;5;129;01min\u001b[39;00m numb:\n\u001b[0;32m      5\u001b[0m     total \u001b[38;5;241m+\u001b[39m\u001b[38;5;241m=\u001b[39m number\n\u001b[0;32m      7\u001b[0m \u001b[38;5;28mprint\u001b[39m(\u001b[38;5;124m\"\u001b[39m\u001b[38;5;124mSum of all elements:\u001b[39m\u001b[38;5;124m\"\u001b[39m, total)\n",
      "\u001b[1;31mNameError\u001b[0m: name 'numb' is not defined"
     ]
    }
   ],
   "source": [
    "num=[1, 2, 3, 4, 5]\n",
    "total=0\n",
    "\n",
    "for number in numb:\n",
    "    total += number\n",
    "\n",
    "print(\"Sum of all elements:\", total)\n"
   ]
  },
  {
   "cell_type": "code",
   "execution_count": 55,
   "id": "14a437d2-3a5c-4b2b-9785-e17694f20994",
   "metadata": {},
   "outputs": [
    {
     "name": "stdout",
     "output_type": "stream",
     "text": [
      "Sum of all elements: 15\n"
     ]
    }
   ],
   "source": [
    "num=[1, 2, 3, 4, 5]\n",
    "total=0\n",
    "\n",
    "for num1 in num:\n",
    "    total+=num1\n",
    "\n",
    "print(\"Sum of all elements:\", total)\n"
   ]
  },
  {
   "cell_type": "code",
   "execution_count": 57,
   "id": "fe366501-32fb-4939-a507-89b54aa845be",
   "metadata": {},
   "outputs": [
    {
     "name": "stdout",
     "output_type": "stream",
     "text": [
      "2\n",
      "4\n",
      "6\n",
      "8\n",
      "10\n"
     ]
    }
   ],
   "source": [
    "numbers = [1, 2, 3, 4, 5, 6, 7, 8, 9, 10]\n",
    "\n",
    "for num in numbers:\n",
    "    if num % 2 == 0:\n",
    "        print(num)\n"
   ]
  },
  {
   "cell_type": "code",
   "execution_count": 2,
   "id": "c50d961a-a204-421d-9d19-1cdc60e2c04c",
   "metadata": {},
   "outputs": [
    {
     "name": "stdout",
     "output_type": "stream",
     "text": [
      "Day 4\n"
     ]
    }
   ],
   "source": [
    "print(\"Day 4\")"
   ]
  },
  {
   "cell_type": "code",
   "execution_count": 3,
   "id": "5d2e5c8c-1c44-4b92-a030-3b699fbf2766",
   "metadata": {},
   "outputs": [
    {
     "name": "stdout",
     "output_type": "stream",
     "text": [
      "simple interst= 10800.0\n"
     ]
    }
   ],
   "source": [
    "def simple(p,r,t):\n",
    "    cal=(p*r*t)/100\n",
    "    print(\"simple interst=\",cal)\n",
    "\n",
    "pi=30000\n",
    "ri=12\n",
    "ti=3\n",
    "simple(pi,ri,ti)"
   ]
  },
  {
   "cell_type": "code",
   "execution_count": 5,
   "id": "b2fe2e07-789e-4287-a4ee-b01b7554fbf3",
   "metadata": {},
   "outputs": [
    {
     "name": "stdout",
     "output_type": "stream",
     "text": [
      "1275\n"
     ]
    }
   ],
   "source": [
    "\n",
    "def sum():\n",
    "    i=1\n",
    "    sum1=0\n",
    "    while i<=50:\n",
    "        sum1+=i\n",
    "        i+=1\n",
    "    print(sum1)\n",
    "    \n",
    "sum()\n",
    "\n",
    "        \n",
    "        "
   ]
  },
  {
   "cell_type": "code",
   "execution_count": 9,
   "id": "6623cf3e-5414-4c5e-9c27-1016e3c080a9",
   "metadata": {},
   "outputs": [
    {
     "name": "stdin",
     "output_type": "stream",
     "text": [
      "Enter number 2\n"
     ]
    },
    {
     "name": "stdout",
     "output_type": "stream",
     "text": [
      "2\n",
      "4\n",
      "6\n",
      "8\n",
      "10\n",
      "12\n",
      "14\n",
      "16\n",
      "18\n",
      "20\n"
     ]
    }
   ],
   "source": [
    "def table():\n",
    "    n=int(input(\"Enter number\"))\n",
    "    for i in range(1,11):\n",
    "        print(n*i)\n",
    "\n",
    "table()"
   ]
  },
  {
   "cell_type": "code",
   "execution_count": 10,
   "id": "557ae47e-a797-4f59-a628-d71c5943152e",
   "metadata": {},
   "outputs": [
    {
     "name": "stdout",
     "output_type": "stream",
     "text": [
      "625\n"
     ]
    }
   ],
   "source": [
    "def odd():\n",
    "    sum=0\n",
    "    for i in range(1,51):\n",
    "        if(i%2!=0):\n",
    "            sum+=i\n",
    "\n",
    "    print(sum)\n",
    "odd()"
   ]
  },
  {
   "cell_type": "code",
   "execution_count": 2,
   "id": "e37e731a-87c8-4202-a5df-eafee42cbac4",
   "metadata": {},
   "outputs": [
    {
     "data": {
      "text/plain": [
       "66"
      ]
     },
     "execution_count": 2,
     "metadata": {},
     "output_type": "execute_result"
    }
   ],
   "source": [
    "def add():\n",
    "    a=10\n",
    "    b=56\n",
    "    c=a+b\n",
    "    return c\n",
    "add()"
   ]
  },
  {
   "cell_type": "code",
   "execution_count": 4,
   "id": "20d8008d-2ec6-47e2-9316-590cca70225e",
   "metadata": {},
   "outputs": [
    {
     "name": "stdout",
     "output_type": "stream",
     "text": [
      "16\n"
     ]
    }
   ],
   "source": [
    "add=lambda a,b:a+b\n",
    "print(add(12,4))"
   ]
  },
  {
   "cell_type": "code",
   "execution_count": 18,
   "id": "730c2034-fd59-4bf4-bee8-959eddd1b529",
   "metadata": {},
   "outputs": [
    {
     "name": "stdout",
     "output_type": "stream",
     "text": [
      "30\n",
      "33\n"
     ]
    }
   ],
   "source": [
    "def add():\n",
    "    a=10\n",
    "    b=20\n",
    "    print(a+b)\n",
    "    def add1():\n",
    "        d=10\n",
    "        f=23\n",
    "        print(d+f)\n",
    "    add1()\n",
    "\n",
    "add()"
   ]
  },
  {
   "cell_type": "code",
   "execution_count": 19,
   "id": "16202517-1de2-42a6-8e12-4003ea2ecdf9",
   "metadata": {},
   "outputs": [
    {
     "name": "stdout",
     "output_type": "stream",
     "text": [
      "olleh\n"
     ]
    }
   ],
   "source": [
    "def reverse(s):\n",
    "    return s[::-1]\n",
    "\n",
    "i = \"hello\"\n",
    "rev = reverse(i)\n",
    "print(rev)"
   ]
  },
  {
   "cell_type": "code",
   "execution_count": 20,
   "id": "73af4d9b-fb05-4cd7-be48-a9d31615fb39",
   "metadata": {},
   "outputs": [
    {
     "name": "stdin",
     "output_type": "stream",
     "text": [
      "enter string kunal\n"
     ]
    }
   ],
   "source": [
    "s=input(\"enter string\")"
   ]
  },
  {
   "cell_type": "code",
   "execution_count": 1,
   "id": "e7812ba2-390e-495c-a77c-968ad4ecd97a",
   "metadata": {},
   "outputs": [
    {
     "name": "stdin",
     "output_type": "stream",
     "text": [
      "Enter n 6\n"
     ]
    },
    {
     "data": {
      "text/plain": [
       "36"
      ]
     },
     "execution_count": 1,
     "metadata": {},
     "output_type": "execute_result"
    }
   ],
   "source": [
    "def sq(n):\n",
    "    m=n*n\n",
    "    return m\n",
    "\n",
    "n=int(input(\"Enter n\"))\n",
    "sq(n)\n"
   ]
  },
  {
   "cell_type": "code",
   "execution_count": 2,
   "id": "c1b9a797-bc4a-4391-b358-3a46cb9c028a",
   "metadata": {},
   "outputs": [
    {
     "data": {
      "text/plain": [
       "30"
      ]
     },
     "execution_count": 2,
     "metadata": {},
     "output_type": "execute_result"
    }
   ],
   "source": [
    "def add(a,b):\n",
    "    c=a+b\n",
    "    return c\n",
    "add(10,20)"
   ]
  },
  {
   "cell_type": "code",
   "execution_count": 4,
   "id": "c8012a0e-bde0-4d11-ba53-68436790424e",
   "metadata": {},
   "outputs": [
    {
     "name": "stdin",
     "output_type": "stream",
     "text": [
      "Enter number 5\n"
     ]
    },
    {
     "name": "stdout",
     "output_type": "stream",
     "text": [
      "Number is odd\n"
     ]
    }
   ],
   "source": [
    "n=int(input(\"Enter number\"))\n",
    "def check(n):\n",
    "    if(n%2==0):\n",
    "        print(\"Number is even\")\n",
    "    else:\n",
    "        print(\"Number is odd\")\n",
    "check(n)\n"
   ]
  },
  {
   "cell_type": "code",
   "execution_count": 6,
   "id": "935a5227-f3db-477b-af02-3fcc40886068",
   "metadata": {},
   "outputs": [
    {
     "name": "stdin",
     "output_type": "stream",
     "text": [
      "Enter number 5\n"
     ]
    },
    {
     "data": {
      "text/plain": [
       "120"
      ]
     },
     "execution_count": 6,
     "metadata": {},
     "output_type": "execute_result"
    }
   ],
   "source": [
    "n=int(input(\"Enter number\"))\n",
    "def fact(n):\n",
    "    if n==1:\n",
    "        return 1\n",
    "    return n*fact(n-1)\n",
    "\n",
    "fact(n)"
   ]
  },
  {
   "cell_type": "code",
   "execution_count": 7,
   "id": "2656cf92-59ff-4989-bc7f-84b101c097a4",
   "metadata": {},
   "outputs": [
    {
     "name": "stdout",
     "output_type": "stream",
     "text": [
      "Largest number is: 9\n"
     ]
    }
   ],
   "source": [
    "def largest(nums):\n",
    "    if not nums:\n",
    "        return None\n",
    "    largest = nums[0]\n",
    "    for num in nums:\n",
    "        if num > largest:\n",
    "            largest = num \n",
    "    return largest\n",
    "\n",
    "\n",
    "la = [5, 2, 9, 1, 7]\n",
    "result = largest(la)\n",
    "print(\"Largest number is:\", result)\n"
   ]
  },
  {
   "cell_type": "code",
   "execution_count": 10,
   "id": "a07970d0-0398-4022-a235-9da5290b67de",
   "metadata": {},
   "outputs": [
    {
     "name": "stdin",
     "output_type": "stream",
     "text": [
      "Enter n:  4\n"
     ]
    },
    {
     "name": "stdout",
     "output_type": "stream",
     "text": [
      "[0, 1, 1, 2]\n"
     ]
    }
   ],
   "source": [
    "def fib(n):\n",
    "    se = []\n",
    "    a, b = 0, 1\n",
    "    for _ in range(n):\n",
    "        se.append(a)\n",
    "        a, b = b, a + b\n",
    "    return se\n",
    "\n",
    "n = int(input(\"Enter n: \"))\n",
    "print(fib(n))\n"
   ]
  },
  {
   "cell_type": "code",
   "execution_count": 11,
   "id": "3f76182e-74b0-4a38-a96f-39225e784d2a",
   "metadata": {},
   "outputs": [
    {
     "name": "stdin",
     "output_type": "stream",
     "text": [
      "Enter n:  5\n"
     ]
    },
    {
     "name": "stdout",
     "output_type": "stream",
     "text": [
      "[0, 1, 1, 2, 3]\n"
     ]
    }
   ],
   "source": [
    "def fib(n):\n",
    "    a, b = 0, 1\n",
    "    se = []\n",
    "    while n > 0:\n",
    "        se.append(a)\n",
    "        a, b = b, a + b\n",
    "        n -= 1\n",
    "    return se\n",
    "\n",
    "n = int(input(\"Enter n: \"))\n",
    "print(fib(n))\n"
   ]
  },
  {
   "cell_type": "code",
   "execution_count": 26,
   "id": "d4f25ac9-b624-4fe2-aaf3-2d922d257ed1",
   "metadata": {},
   "outputs": [
    {
     "name": "stdin",
     "output_type": "stream",
     "text": [
      "Enter n 5\n"
     ]
    },
    {
     "name": "stdout",
     "output_type": "stream",
     "text": [
      "[]\n"
     ]
    }
   ],
   "source": [
    "def fib(n):\n",
    "    a=0\n",
    "    b=1\n",
    "    se=[]\n",
    "    while n>0:\n",
    "        a,b=b,a+b\n",
    "        n-=1\n",
    "    return se\n",
    "n=int(input(\"Enter n\"))\n",
    "print(fib(n))"
   ]
  },
  {
   "cell_type": "code",
   "execution_count": 13,
   "id": "906ccd5a-22ae-48d5-8a22-09cc2b226964",
   "metadata": {},
   "outputs": [
    {
     "name": "stdout",
     "output_type": "stream",
     "text": [
      "Largest number is: 9\n"
     ]
    }
   ],
   "source": [
    "def lag(num):\n",
    "    if not num:\n",
    "        return None\n",
    "    lag=num[0]\n",
    "    for n in num:\n",
    "        if n>lag:\n",
    "            lag=num\n",
    "    return lar\n",
    "\n",
    "la=[5,2,7,5,9,3,0]\n",
    "result=lag(la)\n",
    "print(\"Largest number =\",result)"
   ]
  },
  {
   "cell_type": "code",
   "execution_count": 18,
   "id": "1ef51a20-dfd5-43ba-a7d7-a7a9fde6e9aa",
   "metadata": {},
   "outputs": [
    {
     "ename": "TypeError",
     "evalue": "'>' not supported between instances of 'int' and 'list'",
     "output_type": "error",
     "traceback": [
      "\u001b[1;31m---------------------------------------------------------------------------\u001b[0m",
      "\u001b[1;31mTypeError\u001b[0m                                 Traceback (most recent call last)",
      "Cell \u001b[1;32mIn[18], line 11\u001b[0m\n\u001b[0;32m      8\u001b[0m     \u001b[38;5;28;01mreturn\u001b[39;00m lar\n\u001b[0;32m     10\u001b[0m la\u001b[38;5;241m=\u001b[39m[\u001b[38;5;241m5\u001b[39m,\u001b[38;5;241m2\u001b[39m,\u001b[38;5;241m7\u001b[39m,\u001b[38;5;241m5\u001b[39m,\u001b[38;5;241m9\u001b[39m,\u001b[38;5;241m3\u001b[39m,\u001b[38;5;241m0\u001b[39m]\n\u001b[1;32m---> 11\u001b[0m result\u001b[38;5;241m=\u001b[39mlag(la)\n\u001b[0;32m     12\u001b[0m \u001b[38;5;28mprint\u001b[39m(\u001b[38;5;124m\"\u001b[39m\u001b[38;5;124mLargest number =\u001b[39m\u001b[38;5;124m\"\u001b[39m,result)\n",
      "Cell \u001b[1;32mIn[18], line 6\u001b[0m, in \u001b[0;36mlag\u001b[1;34m(num)\u001b[0m\n\u001b[0;32m      4\u001b[0m lag\u001b[38;5;241m=\u001b[39mnum[\u001b[38;5;241m0\u001b[39m]\n\u001b[0;32m      5\u001b[0m \u001b[38;5;28;01mfor\u001b[39;00m n \u001b[38;5;129;01min\u001b[39;00m num:\n\u001b[1;32m----> 6\u001b[0m     \u001b[38;5;28;01mif\u001b[39;00m n\u001b[38;5;241m>\u001b[39mlag:\n\u001b[0;32m      7\u001b[0m         lag\u001b[38;5;241m=\u001b[39mnum\n\u001b[0;32m      8\u001b[0m \u001b[38;5;28;01mreturn\u001b[39;00m lar\n",
      "\u001b[1;31mTypeError\u001b[0m: '>' not supported between instances of 'int' and 'list'"
     ]
    }
   ],
   "source": [
    "def lag(num):\n",
    "    if not num:\n",
    "        return None\n",
    "    lag=num[0]\n",
    "    for n in num:\n",
    "        if n>lag:\n",
    "            lag=num\n",
    "    return lar\n",
    "\n",
    "la=[5,2,7,5,9,3,0]\n",
    "result=lag(la)\n",
    "print(\"Largest number =\",result)"
   ]
  },
  {
   "cell_type": "code",
   "execution_count": 19,
   "id": "a80d8018-8458-4ec7-9d06-fd18490ef683",
   "metadata": {},
   "outputs": [
    {
     "ename": "TypeError",
     "evalue": "'>' not supported between instances of 'int' and 'list'",
     "output_type": "error",
     "traceback": [
      "\u001b[1;31m---------------------------------------------------------------------------\u001b[0m",
      "\u001b[1;31mTypeError\u001b[0m                                 Traceback (most recent call last)",
      "Cell \u001b[1;32mIn[19], line 11\u001b[0m\n\u001b[0;32m      8\u001b[0m     \u001b[38;5;28;01mreturn\u001b[39;00m lar\n\u001b[0;32m     10\u001b[0m la\u001b[38;5;241m=\u001b[39m[\u001b[38;5;241m5\u001b[39m,\u001b[38;5;241m2\u001b[39m,\u001b[38;5;241m7\u001b[39m,\u001b[38;5;241m5\u001b[39m,\u001b[38;5;241m9\u001b[39m,\u001b[38;5;241m3\u001b[39m,\u001b[38;5;241m0\u001b[39m]\n\u001b[1;32m---> 11\u001b[0m result\u001b[38;5;241m=\u001b[39mlag(la)\n\u001b[0;32m     12\u001b[0m \u001b[38;5;28mprint\u001b[39m(\u001b[38;5;124m\"\u001b[39m\u001b[38;5;124mLargest number =\u001b[39m\u001b[38;5;124m\"\u001b[39m,result)\n",
      "Cell \u001b[1;32mIn[19], line 6\u001b[0m, in \u001b[0;36mlag\u001b[1;34m(num)\u001b[0m\n\u001b[0;32m      4\u001b[0m lag\u001b[38;5;241m=\u001b[39mnum[\u001b[38;5;241m0\u001b[39m]\n\u001b[0;32m      5\u001b[0m \u001b[38;5;28;01mfor\u001b[39;00m n \u001b[38;5;129;01min\u001b[39;00m num:\n\u001b[1;32m----> 6\u001b[0m     \u001b[38;5;28;01mif\u001b[39;00m n\u001b[38;5;241m>\u001b[39mlag:\n\u001b[0;32m      7\u001b[0m         lag\u001b[38;5;241m=\u001b[39mnum\n\u001b[0;32m      8\u001b[0m \u001b[38;5;28;01mreturn\u001b[39;00m lar\n",
      "\u001b[1;31mTypeError\u001b[0m: '>' not supported between instances of 'int' and 'list'"
     ]
    }
   ],
   "source": [
    "def lag(num):\n",
    "    if not num:\n",
    "        return None\n",
    "    lag=num[0]\n",
    "    for n in num:\n",
    "        if n>lag:\n",
    "            lag=num\n",
    "    return lar\n",
    "\n",
    "la=[5,2,7,5,9,3,0]\n",
    "result=lag(la)\n",
    "print(\"Largest number =\",result)"
   ]
  },
  {
   "cell_type": "code",
   "execution_count": 20,
   "id": "e54b40c4-d3b9-4fdd-88ba-dc839ad881c6",
   "metadata": {},
   "outputs": [
    {
     "ename": "TypeError",
     "evalue": "'>' not supported between instances of 'int' and 'list'",
     "output_type": "error",
     "traceback": [
      "\u001b[1;31m---------------------------------------------------------------------------\u001b[0m",
      "\u001b[1;31mTypeError\u001b[0m                                 Traceback (most recent call last)",
      "Cell \u001b[1;32mIn[20], line 11\u001b[0m\n\u001b[0;32m      8\u001b[0m     \u001b[38;5;28;01mreturn\u001b[39;00m lar\n\u001b[0;32m     10\u001b[0m la\u001b[38;5;241m=\u001b[39m[\u001b[38;5;241m5\u001b[39m,\u001b[38;5;241m2\u001b[39m,\u001b[38;5;241m7\u001b[39m,\u001b[38;5;241m5\u001b[39m,\u001b[38;5;241m9\u001b[39m,\u001b[38;5;241m3\u001b[39m,\u001b[38;5;241m0\u001b[39m]\n\u001b[1;32m---> 11\u001b[0m result\u001b[38;5;241m=\u001b[39mlag(la)\n\u001b[0;32m     12\u001b[0m \u001b[38;5;28mprint\u001b[39m(\u001b[38;5;124m\"\u001b[39m\u001b[38;5;124mLargest number =\u001b[39m\u001b[38;5;124m\"\u001b[39m,result)\n",
      "Cell \u001b[1;32mIn[20], line 6\u001b[0m, in \u001b[0;36mlag\u001b[1;34m(num)\u001b[0m\n\u001b[0;32m      4\u001b[0m lag\u001b[38;5;241m=\u001b[39mnum[\u001b[38;5;241m0\u001b[39m]\n\u001b[0;32m      5\u001b[0m \u001b[38;5;28;01mfor\u001b[39;00m n \u001b[38;5;129;01min\u001b[39;00m num:\n\u001b[1;32m----> 6\u001b[0m     \u001b[38;5;28;01mif\u001b[39;00m n\u001b[38;5;241m>\u001b[39mlag:\n\u001b[0;32m      7\u001b[0m         lag\u001b[38;5;241m=\u001b[39mnum\n\u001b[0;32m      8\u001b[0m \u001b[38;5;28;01mreturn\u001b[39;00m lar\n",
      "\u001b[1;31mTypeError\u001b[0m: '>' not supported between instances of 'int' and 'list'"
     ]
    }
   ],
   "source": [
    "def lag(num):\n",
    "    if not num:\n",
    "        return None\n",
    "    lag=num[0]\n",
    "    for n in num:\n",
    "        if n>lag:\n",
    "            lag=num\n",
    "    return lar\n",
    "\n",
    "la=[5,2,7,5,9,3,0]\n",
    "result=lag(la)\n",
    "print(\"Largest number =\",result)"
   ]
  },
  {
   "cell_type": "code",
   "execution_count": 22,
   "id": "c70b420c-3739-4cf0-9d8d-9fb9b4468a15",
   "metadata": {},
   "outputs": [
    {
     "ename": "UnboundLocalError",
     "evalue": "cannot access local variable 'lar' where it is not associated with a value",
     "output_type": "error",
     "traceback": [
      "\u001b[1;31m---------------------------------------------------------------------------\u001b[0m",
      "\u001b[1;31mUnboundLocalError\u001b[0m                         Traceback (most recent call last)",
      "Cell \u001b[1;32mIn[22], line 12\u001b[0m\n\u001b[0;32m      8\u001b[0m     \u001b[38;5;28;01mreturn\u001b[39;00m lar\n\u001b[0;32m     11\u001b[0m la \u001b[38;5;241m=\u001b[39m [\u001b[38;5;241m5\u001b[39m, \u001b[38;5;241m2\u001b[39m, \u001b[38;5;241m9\u001b[39m, \u001b[38;5;241m1\u001b[39m, \u001b[38;5;241m7\u001b[39m]\n\u001b[1;32m---> 12\u001b[0m result \u001b[38;5;241m=\u001b[39m lar(la)\n\u001b[0;32m     13\u001b[0m \u001b[38;5;28mprint\u001b[39m(\u001b[38;5;124m\"\u001b[39m\u001b[38;5;124mLargest number is:\u001b[39m\u001b[38;5;124m\"\u001b[39m, result)\n",
      "Cell \u001b[1;32mIn[22], line 6\u001b[0m, in \u001b[0;36mlar\u001b[1;34m(num)\u001b[0m\n\u001b[0;32m      4\u001b[0m largest\u001b[38;5;241m=\u001b[39mnum[\u001b[38;5;241m0\u001b[39m]\n\u001b[0;32m      5\u001b[0m \u001b[38;5;28;01mfor\u001b[39;00m n \u001b[38;5;129;01min\u001b[39;00m num:\n\u001b[1;32m----> 6\u001b[0m     \u001b[38;5;28;01mif\u001b[39;00m n\u001b[38;5;241m>\u001b[39mlar:\n\u001b[0;32m      7\u001b[0m         lar\u001b[38;5;241m=\u001b[39mn \n\u001b[0;32m      8\u001b[0m \u001b[38;5;28;01mreturn\u001b[39;00m lar\n",
      "\u001b[1;31mUnboundLocalError\u001b[0m: cannot access local variable 'lar' where it is not associated with a value"
     ]
    }
   ],
   "source": [
    "def lar(num):\n",
    "    if not num:\n",
    "        return None\n",
    "    largest=num[0]\n",
    "    for n in num:\n",
    "        if n>lar:\n",
    "            lar=n \n",
    "    return lar\n",
    "\n",
    "\n",
    "la = [5, 2, 9, 1, 7]\n",
    "result = lar(la)\n",
    "print(\"Largest number is:\", result)\n"
   ]
  },
  {
   "cell_type": "code",
   "execution_count": 23,
   "id": "ce87fcf0-a2a4-4235-a225-9f92fb33a05c",
   "metadata": {},
   "outputs": [],
   "source": [
    "def count_vowels(s):\n",
    "    vowels = \"aeiouAEIOU\"\n",
    "    count = 0\n",
    "    for char in s:\n",
    "        if char in vowels:\n",
    "            count += 1\n",
    "    return count\n"
   ]
  },
  {
   "cell_type": "code",
   "execution_count": 25,
   "id": "f86982c1-339c-4266-a487-5ad004e08762",
   "metadata": {},
   "outputs": [
    {
     "data": {
      "text/plain": [
       "4"
      ]
     },
     "execution_count": 25,
     "metadata": {},
     "output_type": "execute_result"
    }
   ],
   "source": [
    "def count(s):\n",
    "    vowel=\"aeiouAEIOU\"\n",
    "    count=0\n",
    "    for i in s:\n",
    "        if i in vowel:\n",
    "            count+=1\n",
    "    return count\n",
    "\n",
    "name=\"kunal sharma\"\n",
    "count(name)"
   ]
  },
  {
   "cell_type": "code",
   "execution_count": 27,
   "id": "55ae922e-8529-40ec-8c0a-6e8be20c1eeb",
   "metadata": {},
   "outputs": [],
   "source": [
    "def sum_all(*args):\n",
    "    return sum(args)\n"
   ]
  },
  {
   "cell_type": "code",
   "execution_count": 28,
   "id": "f3fda233-5b83-4f83-a2f3-8d36812d21e0",
   "metadata": {},
   "outputs": [
    {
     "name": "stdout",
     "output_type": "stream",
     "text": [
      "0 1 1 2 3 5 8 13 21 34 "
     ]
    }
   ],
   "source": [
    "def fibonacci(n):\n",
    "    a, b = 0, 1\n",
    "    for _ in range(n):\n",
    "        print(a, end=' ')\n",
    "        a, b = b, a + b\n",
    "\n",
    "# Example usage:\n",
    "fibonacci(10)\n"
   ]
  },
  {
   "cell_type": "code",
   "execution_count": 33,
   "id": "14153ea0-4621-418a-98a9-1d179dc326a6",
   "metadata": {},
   "outputs": [
    {
     "name": "stdin",
     "output_type": "stream",
     "text": [
      "Enter number 10\n"
     ]
    },
    {
     "name": "stdout",
     "output_type": "stream",
     "text": [
      "0\n",
      "1\n",
      "1\n",
      "2\n",
      "3\n",
      "5\n",
      "8\n",
      "13\n",
      "21\n",
      "34\n"
     ]
    }
   ],
   "source": [
    "def fibo(n):\n",
    "    a=0\n",
    "    b=1\n",
    "    for _ in range(n):\n",
    "        print(a,)\n",
    "        a,b=b,a+b\n",
    "\n",
    "\n",
    "m=int(input(\"Enter number\"))\n",
    "fibo(m)"
   ]
  },
  {
   "cell_type": "code",
   "execution_count": 34,
   "id": "6fb608e0-3015-4687-b929-d266152d613b",
   "metadata": {},
   "outputs": [
    {
     "name": "stdout",
     "output_type": "stream",
     "text": [
      "Palindrome\n",
      "Not a Palindrome\n"
     ]
    }
   ],
   "source": [
    "def palindrome(name):\n",
    "    char=\"\"\n",
    "    for i in range(len(name)-1,-1,-1) :\n",
    "        char += name[i]\n",
    "    if name == char:\n",
    "        print(\"Palindrome\")\n",
    "    else:\n",
    "        print(\"Not a Palindrome\")\n",
    "\n",
    "\n",
    "palindrome(\"\"kunal sharma\")\n",
    "palindrome(\"Hello\")"
   ]
  },
  {
   "cell_type": "code",
   "execution_count": 35,
   "id": "bbbec582-793e-4ce4-8a7d-6c965d3d46c4",
   "metadata": {},
   "outputs": [
    {
     "ename": "SyntaxError",
     "evalue": "invalid non-printable character U+00A0 (2993906817.py, line 8)",
     "output_type": "error",
     "traceback": [
      "\u001b[1;36m  Cell \u001b[1;32mIn[35], line 8\u001b[1;36m\u001b[0m\n\u001b[1;33m    print(largest([1,2,3,4,5, 2000, 100]))\u001b[0m\n\u001b[1;37m                             ^\u001b[0m\n\u001b[1;31mSyntaxError\u001b[0m\u001b[1;31m:\u001b[0m invalid non-printable character U+00A0\n"
     ]
    }
   ],
   "source": [
    "def largest(l1):\n",
    "    max = l1[0]\n",
    "    for i in l1:\n",
    "        if max < i:\n",
    "            max = i\n",
    "    return max\n",
    "\n",
    "print(largest([1,2,3,4,5, 2000, 100]))"
   ]
  },
  {
   "cell_type": "code",
   "execution_count": 37,
   "id": "aa836e62-5c15-40ce-a87b-946abe522a8d",
   "metadata": {},
   "outputs": [
    {
     "name": "stdout",
     "output_type": "stream",
     "text": [
      "2000\n"
     ]
    }
   ],
   "source": [
    "def lar(l1):\n",
    "    max1=l1[0]\n",
    "    for i in l1:\n",
    "        if max1<i:\n",
    "            max1=i\n",
    "    return max1\n",
    "\n",
    "print(largest([1, 2, 3, 4, 5, 2000, 100]))\n"
   ]
  },
  {
   "cell_type": "code",
   "execution_count": 39,
   "id": "b830f728-4c0a-4bc2-bef6-ae1312ca781d",
   "metadata": {},
   "outputs": [
    {
     "name": "stdout",
     "output_type": "stream",
     "text": [
      "sum of number of args is 30\n"
     ]
    }
   ],
   "source": [
    "def sum(*args):\n",
    "    count=0\n",
    "    for i in args:\n",
    "        count+=i\n",
    "    return count\n",
    "print(f\"sum of number of args is {sum(10,20)}\")"
   ]
  },
  {
   "cell_type": "code",
   "execution_count": 2,
   "id": "2524e50c-d93d-4bde-9882-e32eb0e60c34",
   "metadata": {},
   "outputs": [
    {
     "name": "stdout",
     "output_type": "stream",
     "text": [
      "16\n"
     ]
    }
   ],
   "source": [
    "sq=lambda a:a*a\n",
    "b=sq(4)\n",
    "print(b)"
   ]
  },
  {
   "cell_type": "code",
   "execution_count": 3,
   "id": "0ff98544-f63d-473c-8823-5497e61c6914",
   "metadata": {},
   "outputs": [
    {
     "name": "stdout",
     "output_type": "stream",
     "text": [
      "Average = 15.0\n"
     ]
    }
   ],
   "source": [
    "def avg(a,b):\n",
    "    c=(a+b)/2\n",
    "    print(\"Average =\",c)\n",
    "\n",
    "avg(10,20)"
   ]
  },
  {
   "cell_type": "code",
   "execution_count": 1,
   "id": "8281f388-feaa-4681-af63-96fb77f9ea4d",
   "metadata": {},
   "outputs": [
    {
     "name": "stdout",
     "output_type": "stream",
     "text": [
      "Day 5\n"
     ]
    }
   ],
   "source": [
    "print(\"Day 5\")"
   ]
  },
  {
   "cell_type": "code",
   "execution_count": 30,
   "id": "5c1164e6-0126-4afc-935e-2927c2b15402",
   "metadata": {},
   "outputs": [
    {
     "name": "stdout",
     "output_type": "stream",
     "text": [
      "[1, 4, 2, 8, 7, 1]\n",
      "[1, 4, 0, 2, 8, 7, 1]\n",
      "[0, 1, 1, 2, 4, 7, 8]\n"
     ]
    }
   ],
   "source": [
    "lst=[1,4,2,8,7]\n",
    "lst.append(1)\n",
    "print(lst)\n",
    "lst.insert(2,0)\n",
    "print(lst)\n",
    "lst.sort()\n",
    "print(lst)"
   ]
  },
  {
   "cell_type": "code",
   "execution_count": 16,
   "id": "301db10e-80ff-4b92-852f-edeab4c428fe",
   "metadata": {},
   "outputs": [
    {
     "name": "stdout",
     "output_type": "stream",
     "text": [
      "[1, 6, 9, 3]\n",
      "[1, 6, 9]\n",
      "[]\n",
      "['kunal', 2]\n"
     ]
    }
   ],
   "source": [
    "ar=[1,6,9,3,5]\n",
    "ar.pop()\n",
    "print(ar)\n",
    "ar.remove(3)\n",
    "print(ar)\n",
    "ar.clear()\n",
    "print(ar)\n",
    "ar.insert(0,\"kunal\")\n",
    "ar.insert(1,2)\n",
    "print(ar)"
   ]
  },
  {
   "cell_type": "code",
   "execution_count": 35,
   "id": "adb94c19-c0d3-40a3-9c60-df32707f8e82",
   "metadata": {},
   "outputs": [
    {
     "name": "stdout",
     "output_type": "stream",
     "text": [
      "[1, 2, 3, 4, 'kunal', 23]\n",
      "[1, 2, 3, 4, 'kunal']\n",
      "<class 'list'>\n",
      "['kunal', 4, 3, 2, 1]\n",
      "['kunal', 4, 3, 2, 1]\n"
     ]
    }
   ],
   "source": [
    "arr=[1,2,3,4]\n",
    "arr.extend([\"kunal\",23])\n",
    "print(arr)\n",
    "arr.pop()\n",
    "print(arr)\n",
    "print(type(arr))\n",
    "arr.index(2)\n",
    "arr.count(2)\n",
    "arr.reverse()\n",
    "print(arr)\n",
    "b=arr.copy()\n",
    "print(b)"
   ]
  },
  {
   "cell_type": "code",
   "execution_count": 42,
   "id": "6ba28108-ad6d-4257-84aa-c8aae301edb9",
   "metadata": {},
   "outputs": [
    {
     "name": "stdout",
     "output_type": "stream",
     "text": [
      "[]\n"
     ]
    },
    {
     "name": "stdin",
     "output_type": "stream",
     "text": [
      "Enter number 4\n",
      "Enter number 5\n",
      "Enter number 3\n",
      "Enter number 1\n",
      "Enter number 7\n"
     ]
    },
    {
     "name": "stdout",
     "output_type": "stream",
     "text": [
      "[4, 5, 3, 1, 7]\n"
     ]
    }
   ],
   "source": [
    "emp=[]\n",
    "print(emp)\n",
    "for i in range(1,6,1):\n",
    "    n=int(input(\"Enter number\"))\n",
    "    emp.append(n)\n",
    "\n",
    "print(emp)"
   ]
  },
  {
   "cell_type": "code",
   "execution_count": 44,
   "id": "6da6065e-b213-45a3-8759-f82531d31ab2",
   "metadata": {},
   "outputs": [
    {
     "name": "stdout",
     "output_type": "stream",
     "text": [
      "[1, 2, 3, 4, 5, 6]\n"
     ]
    }
   ],
   "source": [
    "list1=[1,2,3]\n",
    "list2=[4,5,6]\n",
    "list1.extend(list2)\n",
    "print(list1)"
   ]
  },
  {
   "cell_type": "code",
   "execution_count": 45,
   "id": "6f374178-cd3c-4887-bb13-04cc9a751759",
   "metadata": {},
   "outputs": [
    {
     "name": "stdout",
     "output_type": "stream",
     "text": [
      "[10, 20, 25, 30, 40]\n"
     ]
    }
   ],
   "source": [
    "list1=[10,20,30,40]\n",
    "list1.insert(2,25)\n",
    "print(list1)"
   ]
  },
  {
   "cell_type": "code",
   "execution_count": 46,
   "id": "c5df74a0-e6af-428b-bbc6-0a53fd5c4fd1",
   "metadata": {},
   "outputs": [
    {
     "name": "stdout",
     "output_type": "stream",
     "text": [
      "[10, 30, 20, 40]\n"
     ]
    }
   ],
   "source": [
    "list1=[10,20,30,20,40]\n",
    "list1.remove(20)\n",
    "print(list1)"
   ]
  },
  {
   "cell_type": "code",
   "execution_count": 48,
   "id": "40905833-2668-49c4-bea1-0e5dd0e4cd06",
   "metadata": {},
   "outputs": [
    {
     "name": "stdout",
     "output_type": "stream",
     "text": [
      "[1, 2, 3, 4]\n",
      "5\n"
     ]
    }
   ],
   "source": [
    "list1=[1,2,3,4,5]\n",
    "a=list1.pop()\n",
    "print(list1)\n",
    "print(a)"
   ]
  },
  {
   "cell_type": "code",
   "execution_count": 53,
   "id": "7e92dc1a-5538-4cb8-8b6a-bcf341224aae",
   "metadata": {},
   "outputs": [
    {
     "data": {
      "text/plain": [
       "2"
      ]
     },
     "execution_count": 53,
     "metadata": {},
     "output_type": "execute_result"
    }
   ],
   "source": [
    "list1=[5,10,15,20,25]\n",
    "list1.index(15)\n"
   ]
  },
  {
   "cell_type": "code",
   "execution_count": 54,
   "id": "30d782e7-2a0c-4760-b0a3-e47e0340e72a",
   "metadata": {},
   "outputs": [
    {
     "data": {
      "text/plain": [
       "4"
      ]
     },
     "execution_count": 54,
     "metadata": {},
     "output_type": "execute_result"
    }
   ],
   "source": [
    "list1=[1,2,2,3,2,4,2]\n",
    "list1.count(2)"
   ]
  },
  {
   "cell_type": "code",
   "execution_count": 58,
   "id": "fa9acbc0-363b-4e2a-8b87-6373595ef301",
   "metadata": {},
   "outputs": [
    {
     "name": "stdout",
     "output_type": "stream",
     "text": [
      "[3, 5, 7, 10]\n",
      "[10, 7, 5, 3]\n"
     ]
    }
   ],
   "source": [
    "list1=[10,5,7,3]\n",
    "list1.sort()\n",
    "print(list1)\n",
    "list1.sort(reverse=\"true\")\n",
    "print(list1)"
   ]
  },
  {
   "cell_type": "code",
   "execution_count": 59,
   "id": "07908c9b-50aa-4365-8521-ab8861a51ec8",
   "metadata": {},
   "outputs": [
    {
     "name": "stdout",
     "output_type": "stream",
     "text": [
      "[5, 4, 3, 2, 1]\n"
     ]
    }
   ],
   "source": [
    "list1=[1,2,3,4,5]\n",
    "list1.reverse()\n",
    "print(list1)"
   ]
  },
  {
   "cell_type": "code",
   "execution_count": 60,
   "id": "463e5ad6-2784-4904-bb3a-0462a5e44adc",
   "metadata": {},
   "outputs": [
    {
     "name": "stdout",
     "output_type": "stream",
     "text": [
      "[1, 2, 3, 4, 5]\n"
     ]
    }
   ],
   "source": [
    "list1=[1,2,3,4,5]\n",
    "list2=list1.copy()\n",
    "print(list2)"
   ]
  },
  {
   "cell_type": "code",
   "execution_count": null,
   "id": "1f5e23ef-8ec4-4f97-84f9-a5614ecfb141",
   "metadata": {},
   "outputs": [],
   "source": []
  }
 ],
 "metadata": {
  "kernelspec": {
   "display_name": "Python [conda env:base] *",
   "language": "python",
   "name": "conda-base-py"
  },
  "language_info": {
   "codemirror_mode": {
    "name": "ipython",
    "version": 3
   },
   "file_extension": ".py",
   "mimetype": "text/x-python",
   "name": "python",
   "nbconvert_exporter": "python",
   "pygments_lexer": "ipython3",
   "version": "3.13.5"
  }
 },
 "nbformat": 4,
 "nbformat_minor": 5
}
